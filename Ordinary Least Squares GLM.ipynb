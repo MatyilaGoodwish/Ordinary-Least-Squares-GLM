{
 "cells": [
  {
   "cell_type": "code",
   "execution_count": 1,
   "id": "66f6515b",
   "metadata": {},
   "outputs": [],
   "source": [
    "using GLM, DataFrames"
   ]
  },
  {
   "cell_type": "code",
   "execution_count": 2,
   "id": "9f5d8e11",
   "metadata": {},
   "outputs": [
    {
     "data": {
      "text/html": [
       "<div class=\"data-frame\"><p>3 rows × 2 columns</p><table class=\"data-frame\"><thead><tr><th></th><th>X</th><th>Y</th></tr><tr><th></th><th title=\"Int64\">Int64</th><th title=\"Int64\">Int64</th></tr></thead><tbody><tr><th>1</th><td>1</td><td>1</td></tr><tr><th>2</th><td>2</td><td>2</td></tr><tr><th>3</th><td>3</td><td>3</td></tr></tbody></table></div>"
      ],
      "text/latex": [
       "\\begin{tabular}{r|cc}\n",
       "\t& X & Y\\\\\n",
       "\t\\hline\n",
       "\t& Int64 & Int64\\\\\n",
       "\t\\hline\n",
       "\t1 & 1 & 1 \\\\\n",
       "\t2 & 2 & 2 \\\\\n",
       "\t3 & 3 & 3 \\\\\n",
       "\\end{tabular}\n"
      ],
      "text/plain": [
       "\u001b[1m3×2 DataFrame\u001b[0m\n",
       "\u001b[1m Row \u001b[0m│\u001b[1m X     \u001b[0m\u001b[1m Y     \u001b[0m\n",
       "\u001b[1m     \u001b[0m│\u001b[90m Int64 \u001b[0m\u001b[90m Int64 \u001b[0m\n",
       "─────┼──────────────\n",
       "   1 │     1      1\n",
       "   2 │     2      2\n",
       "   3 │     3      3"
      ]
     },
     "execution_count": 2,
     "metadata": {},
     "output_type": "execute_result"
    }
   ],
   "source": [
    "data = DataFrame(X = [1,2,3], Y = [1,2,3])"
   ]
  },
  {
   "cell_type": "code",
   "execution_count": 15,
   "id": "a9b80541",
   "metadata": {},
   "outputs": [
    {
     "data": {
      "text/plain": [
       "StatsModels.TableRegressionModel{LinearModel{GLM.LmResp{Vector{Float64}}, GLM.DensePredChol{Float64, LinearAlgebra.CholeskyPivoted{Float64, Matrix{Float64}}}}, Matrix{Float64}}\n",
       "\n",
       "X ~ 1 + Y\n",
       "\n",
       "Coefficients:\n",
       "────────────────────────────────────────────────────────────────────────────────────────────────\n",
       "                    Coef.   Std. Error                    t  Pr(>|t|)     Lower 95%    Upper 95%\n",
       "────────────────────────────────────────────────────────────────────────────────────────────────\n",
       "(Intercept)  -2.07242e-15  2.01376e-15                -1.03    0.4909  -2.76597e-14  2.35149e-14\n",
       "Y             1.0          9.32191e-16  1072741820277901.75    <1e-15   1.0          1.0\n",
       "────────────────────────────────────────────────────────────────────────────────────────────────"
      ]
     },
     "execution_count": 15,
     "metadata": {},
     "output_type": "execute_result"
    }
   ],
   "source": [
    "zzt = lm(@formula(X ~ Y), data)"
   ]
  },
  {
   "cell_type": "code",
   "execution_count": 16,
   "id": "53ba0e16",
   "metadata": {},
   "outputs": [
    {
     "data": {
      "text/plain": [
       "2-element Vector{Float64}:\n",
       " -2.0724163126336265e-15\n",
       "  1.0000000000000009"
      ]
     },
     "execution_count": 16,
     "metadata": {},
     "output_type": "execute_result"
    }
   ],
   "source": [
    "coef(zzt)"
   ]
  },
  {
   "cell_type": "code",
   "execution_count": 17,
   "id": "6289deb7",
   "metadata": {},
   "outputs": [
    {
     "data": {
      "text/plain": [
       "1.0"
      ]
     },
     "execution_count": 17,
     "metadata": {},
     "output_type": "execute_result"
    }
   ],
   "source": [
    "dof_residual(zzt)"
   ]
  },
  {
   "cell_type": "code",
   "execution_count": 18,
   "id": "0dc9062f",
   "metadata": {},
   "outputs": [
    {
     "data": {
      "text/plain": [
       "3-element Vector{Float64}:\n",
       " 0.9999999999999988\n",
       " 1.9999999999999998\n",
       " 3.0000000000000004"
      ]
     },
     "execution_count": 18,
     "metadata": {},
     "output_type": "execute_result"
    }
   ],
   "source": [
    "predict(zzt)"
   ]
  },
  {
   "cell_type": "code",
   "execution_count": 19,
   "id": "54c9c412",
   "metadata": {},
   "outputs": [
    {
     "data": {
      "text/plain": [
       "1.7379591818150416e-30"
      ]
     },
     "execution_count": 19,
     "metadata": {},
     "output_type": "execute_result"
    }
   ],
   "source": [
    "deviance(zzt)"
   ]
  },
  {
   "cell_type": "code",
   "execution_count": null,
   "id": "38f6b5a6",
   "metadata": {},
   "outputs": [],
   "source": []
  },
  {
   "cell_type": "code",
   "execution_count": null,
   "id": "26d53de2",
   "metadata": {},
   "outputs": [],
   "source": []
  },
  {
   "cell_type": "code",
   "execution_count": 5,
   "id": "26145bc6",
   "metadata": {
    "scrolled": true
   },
   "outputs": [
    {
     "data": {
      "text/plain": [
       "StatsModels.TableRegressionModel{LinearModel{GLM.LmResp{Vector{Float64}}, GLM.DensePredChol{Float64, LinearAlgebra.CholeskyPivoted{Float64, Matrix{Float64}}}}, Matrix{Float64}}\n",
       "\n",
       "Y ~ 1 + X\n",
       "\n",
       "Coefficients:\n",
       "────────────────────────────────────────────────────────────────────────────────────────────────\n",
       "                    Coef.   Std. Error                    t  Pr(>|t|)     Lower 95%    Upper 95%\n",
       "────────────────────────────────────────────────────────────────────────────────────────────────\n",
       "(Intercept)  -2.07242e-15  2.01376e-15                -1.03    0.4909  -2.76597e-14  2.35149e-14\n",
       "X             1.0          9.32191e-16  1072741820277901.75    <1e-15   1.0          1.0\n",
       "────────────────────────────────────────────────────────────────────────────────────────────────"
      ]
     },
     "execution_count": 5,
     "metadata": {},
     "output_type": "execute_result"
    }
   ],
   "source": [
    "ols = lm(@formula(Y ~ 1 + X),data)"
   ]
  },
  {
   "cell_type": "code",
   "execution_count": 6,
   "id": "3d99c706",
   "metadata": {},
   "outputs": [
    {
     "data": {
      "text/plain": [
       "3-element Vector{Float64}:\n",
       " 0.9999999999999988\n",
       " 1.9999999999999998\n",
       " 3.0000000000000004"
      ]
     },
     "execution_count": 6,
     "metadata": {},
     "output_type": "execute_result"
    }
   ],
   "source": [
    "predict(ols) #predictions"
   ]
  },
  {
   "cell_type": "code",
   "execution_count": 7,
   "id": "2758b5c4",
   "metadata": {},
   "outputs": [
    {
     "data": {
      "text/plain": [
       "2-element Vector{Float64}:\n",
       " 2.013762173371465e-15\n",
       " 9.321907481344798e-16"
      ]
     },
     "execution_count": 7,
     "metadata": {},
     "output_type": "execute_result"
    }
   ],
   "source": [
    "stderror(ols) #standard error"
   ]
  },
  {
   "cell_type": "code",
   "execution_count": 8,
   "id": "5301fe46",
   "metadata": {},
   "outputs": [
    {
     "data": {
      "text/plain": [
       "2-element Vector{Float64}:\n",
       " -2.0724163126336265e-15\n",
       "  1.0000000000000009"
      ]
     },
     "execution_count": 8,
     "metadata": {},
     "output_type": "execute_result"
    }
   ],
   "source": [
    "coef(ols)"
   ]
  },
  {
   "cell_type": "code",
   "execution_count": 9,
   "id": "6350291c",
   "metadata": {},
   "outputs": [
    {
     "data": {
      "text/plain": [
       "2×2 Matrix{Float64}:\n",
       "  4.05524e-30  -1.73796e-30\n",
       " -1.73796e-30   8.6898e-31"
      ]
     },
     "execution_count": 9,
     "metadata": {},
     "output_type": "execute_result"
    }
   ],
   "source": [
    "vcov(ols) #coefficients "
   ]
  },
  {
   "cell_type": "code",
   "execution_count": 11,
   "id": "502a7d1f",
   "metadata": {},
   "outputs": [
    {
     "data": {
      "text/plain": [
       "1.7379591818150416e-30"
      ]
     },
     "execution_count": 11,
     "metadata": {},
     "output_type": "execute_result"
    }
   ],
   "source": [
    " deviance(ols) #deviance"
   ]
  },
  {
   "cell_type": "code",
   "execution_count": 13,
   "id": "f129a8d5",
   "metadata": {},
   "outputs": [
    {
     "data": {
      "text/plain": [
       "1.0"
      ]
     },
     "execution_count": 13,
     "metadata": {},
     "output_type": "execute_result"
    }
   ],
   "source": [
    "dof_residual(ols) #degrees of freedom "
   ]
  },
  {
   "cell_type": "code",
   "execution_count": null,
   "id": "4ae04e44",
   "metadata": {},
   "outputs": [],
   "source": []
  }
 ],
 "metadata": {
  "kernelspec": {
   "display_name": "Julia 1.6.5",
   "language": "julia",
   "name": "julia-1.6"
  },
  "language_info": {
   "file_extension": ".jl",
   "mimetype": "application/julia",
   "name": "julia",
   "version": "1.6.5"
  }
 },
 "nbformat": 4,
 "nbformat_minor": 5
}
